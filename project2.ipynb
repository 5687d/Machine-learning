{
  "nbformat": 4,
  "nbformat_minor": 0,
  "metadata": {
    "colab": {
      "name": "project2.ipynb",
      "provenance": [],
      "authorship_tag": "ABX9TyMvSd49+SrldKcXH/m2Ufo6",
      "include_colab_link": true
    },
    "kernelspec": {
      "name": "python3",
      "display_name": "Python 3"
    }
  },
  "cells": [
    {
      "cell_type": "markdown",
      "metadata": {
        "id": "view-in-github",
        "colab_type": "text"
      },
      "source": [
        "<a href=\"https://colab.research.google.com/github/5687d/Machine-learning/blob/main/project2.ipynb\" target=\"_parent\"><img src=\"https://colab.research.google.com/assets/colab-badge.svg\" alt=\"Open In Colab\"/></a>"
      ]
    },
    {
      "cell_type": "code",
      "metadata": {
        "id": "4Z0G4U8dXJRT",
        "colab": {
          "base_uri": "https://localhost:8080/"
        },
        "outputId": "d9e4b577-5f40-4e53-e22c-bbc2eafe40fa"
      },
      "source": [
        "from google.colab import drive\n",
        "drive.mount('/content/drive')"
      ],
      "execution_count": 3,
      "outputs": [
        {
          "output_type": "stream",
          "text": [
            "Mounted at /content/drive\n"
          ],
          "name": "stdout"
        }
      ]
    },
    {
      "cell_type": "code",
      "metadata": {
        "id": "qqvn3ka2WrGn"
      },
      "source": [
        "# Imports\n",
        "# pandas\n",
        "import pandas as pd\n",
        "from pandas import Series,DataFrame\n",
        "\n",
        "# numpy, matplotlib, seaborn\n",
        "import numpy as np\n",
        "import matplotlib.pyplot as plt\n",
        "import seaborn as sns\n",
        "sns.set_style('whitegrid')\n",
        "%matplotlib inline\n",
        "\n",
        "# machine learning\n",
        "from sklearn.linear_model import LogisticRegression\n",
        "from sklearn.svm import SVC, LinearSVC\n",
        "from sklearn.ensemble import RandomForestClassifier,GradientBoostingClassifier\n",
        "from sklearn.neighbors import KNeighborsClassifier\n",
        "from sklearn.naive_bayes import GaussianNB\n",
        "from sklearn.model_selection import train_test_split\n",
        "from sklearn.model_selection import cross_val_score\n",
        "from sklearn.ensemble import RandomForestClassifier\n",
        "from sklearn import svm"
      ],
      "execution_count": 6,
      "outputs": []
    },
    {
      "cell_type": "code",
      "metadata": {
        "id": "ln2tY1hXWqhT"
      },
      "source": [
        "dataset = pd.read_csv(\"/content/drive/MyDrive/lab/102authors_binary.csv\")\n",
        "dataset.head()"
      ],
      "execution_count": null,
      "outputs": []
    },
    {
      "cell_type": "code",
      "metadata": {
        "id": "JKfOc-kAafSo",
        "colab": {
          "base_uri": "https://localhost:8080/"
        },
        "outputId": "95b313cd-257c-4bde-eb48-7304934b348e"
      },
      "source": [
        "print(dataset)"
      ],
      "execution_count": 7,
      "outputs": [
        {
          "output_type": "stream",
          "text": [
            "     getMaxDepthASTLeaf  ...  authorName\n",
            "0                    17  ...         NaN\n",
            "1                    17  ...         NaN\n",
            "2                    17  ...         NaN\n",
            "3                    17  ...         NaN\n",
            "4                    17  ...         NaN\n",
            "..                  ...  ...         ...\n",
            "913                  17  ...         NaN\n",
            "914                  17  ...         NaN\n",
            "915                  17  ...         NaN\n",
            "916                  17  ...         NaN\n",
            "917                  17  ...         NaN\n",
            "\n",
            "[918 rows x 764 columns]\n"
          ],
          "name": "stdout"
        }
      ]
    },
    {
      "cell_type": "code",
      "metadata": {
        "id": "S7juhvrhz5qy",
        "colab": {
          "base_uri": "https://localhost:8080/"
        },
        "outputId": "f8d2edf2-d444-4c39-867c-7c24c5d26457"
      },
      "source": [
        "class Solution():\n",
        "  def getData(self, data):\n",
        "    train_data = []\n",
        "    label = []\n",
        "    for i in range(len(data)):\n",
        "      tmp = []\n",
        "      line = data[i]\n",
        "      for j in range(720):\n",
        "        if line[j] == \" \":\n",
        "          line[j] = 0\n",
        "        tmp.append(float(line[j]))\n",
        "      train_data.append(tmp)\n",
        "      label.append(line[720])\n",
        "    return train_data, label\n",
        "\n",
        "if __name__ == '__main__':\n",
        "  file = open(\"/content/drive/MyDrive/lab/102authors_binary.csv\")\n",
        "  line = file.readline()\n",
        "  data = []\n",
        "  while line:\n",
        "    line = file.readline()\n",
        "    lines = list(line.split(\",\"))\n",
        "    data.append(lines)\n",
        "  file.close()\n",
        "  data = data[:918]\n",
        "  sol = Solution()\n",
        "  X, y = sol.getData(data)\n",
        "# https://scikit-learn.org/stable/modules/generated/sklearn.ensemble.RandomForestClassifier.html\n",
        "  classifier1 =RandomForestClassifier(n_estimators = 10, max_features = \"log2\")\n",
        "  classifier1.fit(X, y)\n",
        "  score_val1 = cross_val_score(classifier1,X,y,scoring = 'f1_macro',cv=9)\n",
        "  score1 = score_val1.mean()\n",
        "\n",
        "  classifier2 =RandomForestClassifier(n_estimators = 100, max_features = \"log2\")\n",
        "  classifier2.fit(X, y)\n",
        "  score_val2 = cross_val_score(classifier2,X,y,scoring = 'f1_macro',cv=9)\n",
        "  score2 = score_val2.mean()\n",
        "\n",
        "  classifier3 =RandomForestClassifier(n_estimators = 1000, max_features = \"log2\")\n",
        "  classifier3.fit(X, y)\n",
        "  score_val3 = cross_val_score(classifier3,X,y,scoring = 'f1_macro',cv=9)\n",
        "  score3 = score_val3.mean()\n",
        "\n",
        "  print('The F1 score is ',score1)\n",
        "  print('The F1 score is ',score2)\n",
        "  print('The F1 score is ',score3)\n",
        "    "
      ],
      "execution_count": 10,
      "outputs": [
        {
          "output_type": "stream",
          "text": [
            "The F1 score is  0.48718228031953514\n",
            "The F1 score is  0.6183214026351281\n",
            "The F1 score is  0.6510530137981119\n"
          ],
          "name": "stdout"
        }
      ]
    },
    {
      "cell_type": "code",
      "metadata": {
        "colab": {
          "base_uri": "https://localhost:8080/",
          "height": 407
        },
        "id": "SaXc4yQlH_m7",
        "outputId": "4aac2a64-9bd4-4279-a582-643fda2c28e5"
      },
      "source": [
        "from prettytable import PrettyTable\n",
        "x= PrettyTable([\"Number of trees\", \"F1 score\"])\n",
        "x.add_row([\"10\",score1])\n",
        "x.add_row([\"100\",score2])\n",
        "x.add_row([\"1000\",score3])\n",
        "print(x)\n",
        "x = ['10', '100', '1000']\n",
        "y = [score1, score2, score3]\n",
        "plt.scatter(x, y)\n",
        "plt.title(\"Question 1.1\")\n",
        "plt.show()"
      ],
      "execution_count": 57,
      "outputs": [
        {
          "output_type": "stream",
          "text": [
            "+-----------------+--------------------+\n",
            "| Number of trees |      F1 score      |\n",
            "+-----------------+--------------------+\n",
            "|        10       | 0.4948620188816267 |\n",
            "|       100       | 0.6192447349310094 |\n",
            "|       1000      | 0.6548293391430646 |\n",
            "+-----------------+--------------------+\n"
          ],
          "name": "stdout"
        },
        {
          "output_type": "display_data",
          "data": {
            "image/png": "[encoded data removed]",
            "text/plain": [
              "<Figure size 432x288 with 1 Axes>"
            ]
          },
          "metadata": {
            "tags": [],
            "needs_background": "light"
          }
        }
      ]
    },
    {
      "cell_type": "code",
      "metadata": {
        "colab": {
          "base_uri": "https://localhost:8080/"
        },
        "id": "3EirNW-UKXlH",
        "outputId": "441f8891-19a9-43ea-a951-4d6c7111adcd"
      },
      "source": [
        "  classifier21 = RandomForestClassifier(n_estimators=100, max_features=5)\n",
        "  classifier21.fit(X, y)\n",
        "  features1 = cross_val_score(classifier21, X, y, scoring='f1_macro', cv=9)\n",
        "\n",
        "  classifier22 = RandomForestClassifier(n_estimators=100, max_features=30)\n",
        "  classifier22.fit(X, y)\n",
        "  features2 = cross_val_score(classifier22, X, y, scoring='f1_macro', cv=9)\n",
        "\n",
        "  classifier23 = RandomForestClassifier(n_estimators=100, max_features=100)\n",
        "  classifier23.fit(X, y)\n",
        "  features3 = cross_val_score(classifier23, X, y, scoring='f1_macro', cv=9)\n",
        "\n"
      ],
      "execution_count": 14,
      "outputs": [
        {
          "output_type": "execute_result",
          "data": {
            "text/plain": [
              "0.6959331880900508"
            ]
          },
          "metadata": {
            "tags": []
          },
          "execution_count": 14
        }
      ]
    },
    {
      "cell_type": "code",
      "metadata": {
        "colab": {
          "base_uri": "https://localhost:8080/",
          "height": 407
        },
        "id": "yQSjb7XpPE4y",
        "outputId": "acd4b7b9-a65f-4c79-c18a-214caaac0896"
      },
      "source": [
        "features1 = features1.mean()\n",
        "features2 = features3.mean()\n",
        "features3 = features2.mean()\n",
        "from prettytable import PrettyTable\n",
        "x2= PrettyTable([\"Number of random features\", \"F-measure\"])\n",
        "x2.add_row([\"5\",features1])\n",
        "x2.add_row([\"30\",features2])\n",
        "x2.add_row([\"100\",features3])\n",
        "print(x2)\n",
        "x2 = ['5', '30', '100']\n",
        "y2 = [features1, features2, features3]\n",
        "plt.scatter(x2, y2)\n",
        "plt.title(\"Question 1.2\")\n",
        "plt.show()"
      ],
      "execution_count": 16,
      "outputs": [
        {
          "output_type": "stream",
          "text": [
            "+---------------------------+--------------------+\n",
            "| Number of random features |     F-measure      |\n",
            "+---------------------------+--------------------+\n",
            "|             5             | 0.5916329494760867 |\n",
            "|             30            | 0.754720406681191  |\n",
            "|            100            | 0.754720406681191  |\n",
            "+---------------------------+--------------------+\n"
          ],
          "name": "stdout"
        },
        {
          "output_type": "display_data",
          "data": {
            "image/png": "[encoded data removed]",
            "text/plain": [
              "<Figure size 432x288 with 1 Axes>"
            ]
          },
          "metadata": {
            "tags": [],
            "needs_background": "light"
          }
        }
      ]
    },
    {
      "cell_type": "code",
      "metadata": {
        "id": "OsmdTbZ9QxPs"
      },
      "source": [
        "classes = [10, 50, 102]\n",
        "fm = []\n",
        "for i in classes:\n",
        "  lst = []\n",
        "  features = []\n",
        "  cnt = 0\n",
        "  for j in data:\n",
        "    if j[-1] not in features:\n",
        "      cnt += 1\n",
        "      if cnt == i + 1:\n",
        "        break\n",
        "      features.append(j[-1])\n",
        "    lst.append(j)\n",
        "  X_, y_ = sol.getData(lst)\n",
        "  classifier = RandomForestClassifier(n_estimators=100, max_features=\"log2\")\n",
        "  classifier.fit(X_, y_)\n",
        "  score_val = cross_val_score(classifier, X_, y_, scoring='f1_macro', cv=9)\n",
        "  fm.append(round(score_val.mean(), 3))\n",
        "\n"
      ],
      "execution_count": 38,
      "outputs": []
    },
    {
      "cell_type": "code",
      "metadata": {
        "colab": {
          "base_uri": "https://localhost:8080/",
          "height": 425
        },
        "id": "x5IZQzrtS_Uu",
        "outputId": "bde000d7-8d75-4915-e7f5-84b04d9e8e67"
      },
      "source": [
        "print(fm[0],fm[1],fm[2])\n",
        "from prettytable import PrettyTable\n",
        "x3= PrettyTable([\"number of classes\", \"F-measure\"])\n",
        "x3.add_row([\"10\",fm[0]])\n",
        "x3.add_row([\"50\",fm[1]])\n",
        "x3.add_row([\"102\",fm[2]])\n",
        "print(x3)\n",
        "x3 = ['10', '50', '102']\n",
        "y3 = [fm[0],fm[1],fm[2]]\n",
        "plt.scatter(x3, y3)\n",
        "plt.title(\"Question 1.3\")\n",
        "plt.show()"
      ],
      "execution_count": 40,
      "outputs": [
        {
          "output_type": "stream",
          "text": [
            "0.911 0.685 0.64\n",
            "+-------------------+-----------+\n",
            "| number of classes | F-measure |\n",
            "+-------------------+-----------+\n",
            "|         10        |   0.911   |\n",
            "|         50        |   0.685   |\n",
            "|        102        |    0.64   |\n",
            "+-------------------+-----------+\n"
          ],
          "name": "stdout"
        },
        {
          "output_type": "display_data",
          "data": {
            "image/png": "[encoded data removed]",
            "text/plain": [
              "<Figure size 432x288 with 1 Axes>"
            ]
          },
          "metadata": {
            "tags": [],
            "needs_background": "light"
          }
        }
      ]
    },
    {
      "cell_type": "code",
      "metadata": {
        "id": "f6iDFhN7UPcC"
      },
      "source": [
        "from sklearn.ensemble import RandomForestClassifier\n",
        "\n",
        "RFC = RandomForestClassifier(n_estimators=1000, max_features=100)\n",
        "RFC.fit(X, y)\n",
        "score_val_RF = cross_val_score(RFC, X, y, scoring='f1_macro', cv=9)\n",
        "rfs = score_val_RF.mean()\n",
        "\n",
        "\n"
      ],
      "execution_count": 20,
      "outputs": []
    },
    {
      "cell_type": "code",
      "metadata": {
        "id": "sXPLTh1sf_mv"
      },
      "source": [
        "from sklearn import svm\n",
        "#https://scikit-learn.org/stable/modules/generated/sklearn.svm.SVC.html\n",
        "classifier_svm = svm.SVC(kernel='linear')\n",
        "classifier_svm.fit(X, y)\n",
        "score_val_SVM = cross_val_score(classifier_svm, X, y, scoring='f1_macro', cv=9)\n",
        "svm = score_val_SVM.mean()"
      ],
      "execution_count": 21,
      "outputs": []
    },
    {
      "cell_type": "code",
      "metadata": {
        "id": "OD_Q97uuYgZF",
        "outputId": "ce1bb248-aa2b-47f5-c107-d19d5f235a1a",
        "colab": {
          "base_uri": "https://localhost:8080/"
        }
      },
      "source": [
        "x21= PrettyTable([\"RandomForest\", \"SVM\"])\n",
        "x21.add_row([rfs,svm])\n",
        "print(x21)"
      ],
      "execution_count": 22,
      "outputs": [
        {
          "output_type": "stream",
          "text": [
            "+--------------------+------+\n",
            "|    RandomForest    | SVM  |\n",
            "+--------------------+------+\n",
            "| 0.7638707334785767 | 0.25 |\n",
            "+--------------------+------+\n"
          ],
          "name": "stdout"
        }
      ]
    },
    {
      "cell_type": "code",
      "metadata": {
        "id": "HE6wFxG8g9q0"
      },
      "source": [
        "importance = RFC.feature_importances_\n",
        "file = open(\"/content/drive/MyDrive/lab/102authors_binary.csv\")\n",
        "line = file.readline()\n",
        "feature = list(line.split(\",\"))\n",
        "del feature[-1]\n",
        "file.close()\n"
      ],
      "execution_count": 32,
      "outputs": []
    },
    {
      "cell_type": "code",
      "metadata": {
        "id": "DDTlqTlOhZs8",
        "outputId": "d6431849-5365-4a10-97f1-53e78bd27fd4",
        "colab": {
          "base_uri": "https://localhost:8080/"
        }
      },
      "source": [
        "idx_sort = np.argsort(importance)[::-1]\n",
        "idx_sort = idx_sort[:20]\n",
        "features = [feature[i] for i in idx_sort]\n",
        "importance_ = [importance[i] for i in idx_sort]\n",
        "x22= PrettyTable([\"feature\", \"importance\"])\n",
        "for y in range(20):\n",
        "  x22.add_row([features[y],importance_[y]])\n",
        "print(x22)"
      ],
      "execution_count": 33,
      "outputs": [
        {
          "output_type": "stream",
          "text": [
            "+-------------------------------------------------------------------------------+-----------------------+\n",
            "|                                    feature                                    |       importance      |\n",
            "+-------------------------------------------------------------------------------+-----------------------+\n",
            "| 'disassemblyBigramsBjoern 40=[; [numberxnumber:number]=numberxnumbercnumber]' |  0.03025861038278829  |\n",
            "|                  'disassemblyBigramsNDISASM 29=[[ebx esi*2]'                  |  0.022611744168184032 |\n",
            "|                   'disassemblyBigramsNDISASM 30=[[esi] dh]'                   |  0.015551117400428157 |\n",
            "|                   'disassemblyBigramsNDISASM 5=[[ebx eax*2]'                  |  0.014053032084885649 |\n",
            "|                     'disassemblyBigramsNDISASM 20=[or ch]'                    |  0.013995165550777832 |\n",
            "|                     'disassemblyBigramsNDISASM 4=[gs xor]'                    |  0.013471184286270579 |\n",
            "|                   'disassemblyBigramsNDISASM 22=[fs outsd]'                   |  0.012088460348036503 |\n",
            "|                      'wordUnigramsTF 62=[*)())*vnumber;]'                     |  0.011553760636957495 |\n",
            "|            'disassemblyBigramsBjoern 51=[call sym.imp._ZNSirsERi]'            |  0.011415984624602199 |\n",
            "|                  'disassemblyBigramsNDISASM 6=[add [fs:ebx]'                  |  0.01068842625349694  |\n",
            "|            'disassemblyBigramsBjoern 53=[Func sym._Znumbersolvev]'            |  0.010503847781468274 |\n",
            "|                             'wordUnigramsTF 133=[r                            |  0.009698367980705322 |\n",
            "|                    'disassemblyBigramsNDISASM 11=[ch [esi]'                   |  0.00959526419121838  |\n",
            "|                            'wordUnigramsTF 83=[of]'                           |  0.008739298936052582 |\n",
            "|               'disassemblyBigramsBjoern 67=[Func sym.imp.getc]'               |  0.008121050724942153 |\n",
            "|                    'ASTbigramsTF 261=[ShiftExpression fo]'                    |  0.007770134649334019 |\n",
            "|         'disassemblyBigramsBjoern 38=[; [numberxffff:number]=-number]'        | 0.0075758198194773195 |\n",
            "|               'disassemblyBigramsBjoern 36=[int ebp+numberxff]'               | 0.0073756857118246946 |\n",
            "|    'wordUnigramsTF 102=[std::operator<<<std::char_traits<char>>(&std::cout    |  0.007362360946000916 |\n",
            "|                 'wordUnigramsTF 117=[std::basic_ofstream<char                 |  0.007243070940764342 |\n",
            "+-------------------------------------------------------------------------------+-----------------------+\n"
          ],
          "name": "stdout"
        }
      ]
    }
  ]
}
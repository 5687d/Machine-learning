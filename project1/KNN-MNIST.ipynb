{
  "nbformat": 4,
  "nbformat_minor": 0,
  "metadata": {
    "colab": {
      "name": "Untitled0.ipynb",
      "provenance": [],
      "collapsed_sections": [],
      "authorship_tag": "ABX9TyMO4PI6bZW8rPkw5uYSq5c6",
      "include_colab_link": true
    },
    "kernelspec": {
      "name": "python3",
      "display_name": "Python 3"
    },
    "accelerator": "GPU"
  },
  "cells": [
    {
      "cell_type": "markdown",
      "metadata": {
        "id": "view-in-github",
        "colab_type": "text"
      },
      "source": [
        "<a href=\"https://colab.research.google.com/github/5687d/Machine-learning/blob/main/project1/KNN-MNIST.ipynb\" target=\"_parent\"><img src=\"https://colab.research.google.com/assets/colab-badge.svg\" alt=\"Open In Colab\"/></a>"
      ]
    },
    {
      "cell_type": "code",
      "metadata": {
        "id": "Cjej4dlH6-2w",
        "outputId": "ee897059-dd6f-4cfd-cc1c-5be8bf139f85",
        "colab": {
          "base_uri": "https://localhost:8080/",
          "height": 34
        }
      },
      "source": [
        "from google.colab import drive\n",
        "drive.mount('/content/drive/')"
      ],
      "execution_count": 6,
      "outputs": [
        {
          "output_type": "stream",
          "text": [
            "Mounted at /content/drive/\n"
          ],
          "name": "stdout"
        }
      ]
    },
    {
      "cell_type": "code",
      "metadata": {
        "id": "dkeJp9oj54m6"
      },
      "source": [
        "\n",
        "# -*- coding: utf-8 -*-\n",
        "\n",
        "\"\"\"\n",
        "\n",
        "@author: yh960\n",
        "reference: https://www.programmersought.com/article/12664496909/\n",
        "           https://www.kaggle.com/shrutimechlearn/step-by-step-diabetes-classification-knn-detailed\n",
        "           https://www.w3xue.com/exp/article/20201/73169.html \n",
        "\"\"\"\n",
        "import numpy\n",
        "import csv\n",
        "import time\n",
        "import torch\n",
        "\n",
        "device = torch.device(\"cuda:0\")\n",
        "\n",
        "# load the train data\n",
        "def loadTrainData():\n",
        "     l=[]\n",
        "     with open('/content/drive/My Drive/lab/train.csv') as file:\n",
        "          lines = csv.reader(file)\n",
        "          for line in lines:\n",
        "              l.append(line)\n",
        "          l.remove(l[0])\n",
        "          l=array(l)\n",
        "          data, label = l[:,1:], l[:,0]\n",
        "          label = label[:,newaxis]\n",
        "          data = toInt(data)\n",
        "          label = toInt(label)\n",
        "          return data, label\n",
        "      \n",
        "# integer\n",
        "def toInt(array):\n",
        "    tensor = torch.from_numpy(array.astype(numpy.int_)).to(device)\n",
        "    print('toInt: size = ' + str(tensor.size()))\n",
        "    return tensor\n",
        "  \n",
        "# Normalization\n",
        "#def normalizing(array):\n",
        "#    m,n = shape(array)\n",
        "#    for i in range(m):\n",
        "#        for j in range(n):\n",
        "#            if array[i,j] != 0:\n",
        "#                array[i,j]=1\n",
        "#    return array\n",
        "  \n",
        "# load the test data\n",
        "def loadTestData():\n",
        "      l=[]         \n",
        "\n",
        "      with open('/content/drive/My Drive/lab/test.csv') as file:\n",
        "          lines = csv.reader(file)\n",
        "          for line in lines:\n",
        "              l.append(line)\n",
        "          l.remove(l[0])\n",
        "          l=array(l)\n",
        "          testdata=toInt(l)\n",
        "          return testdata\n",
        "  \n",
        "# save the result\n",
        "def saveResult(result):\n",
        "      with open('/content/drive/My Drive/lab/knn.csv', 'w', newline='') as myFile:\n",
        "          myWriter = csv.writer(myFile)\n",
        "          myWriter.writerow(['ImageId','Label'])\n",
        "          for i, label in enumerate(result):\n",
        "              tmp = [i+1, int(label)]\n",
        "              myWriter.writerow(tmp)\n",
        "\n"
      ],
      "execution_count": 75,
      "outputs": []
    },
    {
      "cell_type": "code",
      "metadata": {
        "id": "QSspkmA6Gc6R",
        "outputId": "3e0a8851-76a5-42d8-b1fb-7a4a0923ac58",
        "colab": {
          "base_uri": "https://localhost:8080/",
          "height": 68
        }
      },
      "source": [
        "trainData,trainLabel=loadTrainData()\n",
        "testData =loadTestData()\n"
      ],
      "execution_count": 76,
      "outputs": [
        {
          "output_type": "stream",
          "text": [
            "toInt: size = torch.Size([42000, 784])\n",
            "toInt: size = torch.Size([42000, 1])\n",
            "toInt: size = torch.Size([28000, 784])\n"
          ],
          "name": "stdout"
        }
      ]
    },
    {
      "cell_type": "code",
      "metadata": {
        "id": "FIutJvw9Gwpb",
        "outputId": "d83ce2a1-f35f-4712-8947-a31087df6590",
        "colab": {
          "base_uri": "https://localhost:8080/",
          "height": 385
        }
      },
      "source": [
        "  \n",
        "# kNN classifier\n",
        "def classify(inX, dataSet, labels, k):\n",
        "    dataSetSize = dataSet.shape[0]\n",
        "    diffMat = inX.repeat(dataSetSize,1)-dataSet\n",
        "\n",
        "    # calculate the L2 distance\n",
        "    spDiffMat = torch.square(diffMat)\n",
        "    spDistances = torch.sum(spDiffMat,dim=1) \n",
        "    distances = spDistances ** 0.5\n",
        "    sortedDistIndicies = distances.argsort()\n",
        "    classCount = {}\n",
        "\n",
        "    for i in range(k):\n",
        "        voteIlabel = labels[sortedDistIndicies[i],0]\n",
        "        classCount[voteIlabel] = classCount.get(voteIlabel,0) + 1\n",
        "    sortedClassCount = sorted(classCount.items(), key=lambda item:item[1], reverse=True)\n",
        "    return sortedClassCount[0][0]\n",
        "  \n",
        "# main\n",
        "start = time.time()\n",
        "\n",
        "m,n=shape(testData)\n",
        "errorCount=0\n",
        "resultList=[]\n",
        "splitTrainDataSize = 33600\n",
        "splitTestDataSize = 8400\n",
        "splitTrainData = torch.split(trainData, [splitTrainDataSize, splitTestDataSize])\n",
        "splitTrainLabel = torch.split(trainLabel, [splitTrainDataSize, splitTestDataSize])\n",
        "for i in range(splitTestDataSize):\n",
        "        classifierResult = classify(splitTrainData[1][27], splitTrainData[0], splitTrainLabel[0], 19)\n",
        "        resultList.append(classifierResult)\n",
        "        if i % 1000 == 0:\n",
        "            print(time.time()-start)\n",
        "        #print(\"the classifier for %d came back with: %d, the actual answer is %d\" % (i, classifierResult, splitTrainLabel[1][27]))\n",
        "        if (classifierResult != splitTrainLabel[1][27]): \n",
        "            errorCount += 1.0\n",
        "import matplotlib.pyplot as plt\n",
        "abc = splitTrainData[1][27].cpu().numpy()\n",
        "\n",
        "\n",
        "\n",
        "plt.imshow(abc.reshape((28,28)))\n",
        "\n",
        "end = time.time()\n",
        "print (end - start)\n",
        "print(\"\\nthe total number of errors is: %d\" % errorCount)\n",
        "print(\"\\nthe total error rate is: %f\" % (errorCount/float(splitTestDataSize)))\n",
        "\n",
        "saveResult(resultList)"
      ],
      "execution_count": 124,
      "outputs": [
        {
          "output_type": "stream",
          "text": [
            "0.010275602340698242\n",
            "7.913644313812256\n"
          ],
          "name": "stdout"
        },
        {
          "output_type": "error",
          "ename": "KeyboardInterrupt",
          "evalue": "ignored",
          "traceback": [
            "\u001b[0;31m---------------------------------------------------------------------------\u001b[0m",
            "\u001b[0;31mKeyboardInterrupt\u001b[0m                         Traceback (most recent call last)",
            "\u001b[0;32m<ipython-input-124-d528b8c929f3>\u001b[0m in \u001b[0;36m<module>\u001b[0;34m()\u001b[0m\n\u001b[1;32m     29\u001b[0m \u001b[0msplitTrainLabel\u001b[0m \u001b[0;34m=\u001b[0m \u001b[0mtorch\u001b[0m\u001b[0;34m.\u001b[0m\u001b[0msplit\u001b[0m\u001b[0;34m(\u001b[0m\u001b[0mtrainLabel\u001b[0m\u001b[0;34m,\u001b[0m \u001b[0;34m[\u001b[0m\u001b[0msplitTrainDataSize\u001b[0m\u001b[0;34m,\u001b[0m \u001b[0msplitTestDataSize\u001b[0m\u001b[0;34m]\u001b[0m\u001b[0;34m)\u001b[0m\u001b[0;34m\u001b[0m\u001b[0;34m\u001b[0m\u001b[0m\n\u001b[1;32m     30\u001b[0m \u001b[0;32mfor\u001b[0m \u001b[0mi\u001b[0m \u001b[0;32min\u001b[0m \u001b[0mrange\u001b[0m\u001b[0;34m(\u001b[0m\u001b[0msplitTestDataSize\u001b[0m\u001b[0;34m)\u001b[0m\u001b[0;34m:\u001b[0m\u001b[0;34m\u001b[0m\u001b[0;34m\u001b[0m\u001b[0m\n\u001b[0;32m---> 31\u001b[0;31m       \u001b[0mclassifierResult\u001b[0m \u001b[0;34m=\u001b[0m \u001b[0mclassify\u001b[0m\u001b[0;34m(\u001b[0m\u001b[0msplitTrainData\u001b[0m\u001b[0;34m[\u001b[0m\u001b[0;36m1\u001b[0m\u001b[0;34m]\u001b[0m\u001b[0;34m[\u001b[0m\u001b[0;36m27\u001b[0m\u001b[0;34m]\u001b[0m\u001b[0;34m,\u001b[0m \u001b[0msplitTrainData\u001b[0m\u001b[0;34m[\u001b[0m\u001b[0;36m0\u001b[0m\u001b[0;34m]\u001b[0m\u001b[0;34m,\u001b[0m \u001b[0msplitTrainLabel\u001b[0m\u001b[0;34m[\u001b[0m\u001b[0;36m0\u001b[0m\u001b[0;34m]\u001b[0m\u001b[0;34m,\u001b[0m \u001b[0;36m19\u001b[0m\u001b[0;34m)\u001b[0m\u001b[0;34m\u001b[0m\u001b[0;34m\u001b[0m\u001b[0m\n\u001b[0m\u001b[1;32m     32\u001b[0m       \u001b[0mresultList\u001b[0m\u001b[0;34m.\u001b[0m\u001b[0mappend\u001b[0m\u001b[0;34m(\u001b[0m\u001b[0mclassifierResult\u001b[0m\u001b[0;34m)\u001b[0m\u001b[0;34m\u001b[0m\u001b[0;34m\u001b[0m\u001b[0m\n\u001b[1;32m     33\u001b[0m       \u001b[0;32mif\u001b[0m \u001b[0mi\u001b[0m \u001b[0;34m%\u001b[0m \u001b[0;36m1000\u001b[0m \u001b[0;34m==\u001b[0m \u001b[0;36m0\u001b[0m\u001b[0;34m:\u001b[0m\u001b[0;34m\u001b[0m\u001b[0;34m\u001b[0m\u001b[0m\n",
            "\u001b[0;32m<ipython-input-124-d528b8c929f3>\u001b[0m in \u001b[0;36mclassify\u001b[0;34m(inX, dataSet, labels, k)\u001b[0m\n\u001b[1;32m      9\u001b[0m   \u001b[0mspDistances\u001b[0m \u001b[0;34m=\u001b[0m \u001b[0mtorch\u001b[0m\u001b[0;34m.\u001b[0m\u001b[0msum\u001b[0m\u001b[0;34m(\u001b[0m\u001b[0mspDiffMat\u001b[0m\u001b[0;34m,\u001b[0m\u001b[0mdim\u001b[0m\u001b[0;34m=\u001b[0m\u001b[0;36m1\u001b[0m\u001b[0;34m)\u001b[0m\u001b[0;34m\u001b[0m\u001b[0;34m\u001b[0m\u001b[0m\n\u001b[1;32m     10\u001b[0m   \u001b[0mdistances\u001b[0m \u001b[0;34m=\u001b[0m \u001b[0mspDistances\u001b[0m \u001b[0;34m**\u001b[0m \u001b[0;36m0.5\u001b[0m\u001b[0;34m\u001b[0m\u001b[0;34m\u001b[0m\u001b[0m\n\u001b[0;32m---> 11\u001b[0;31m   \u001b[0msortedDistIndicies\u001b[0m \u001b[0;34m=\u001b[0m \u001b[0mdistances\u001b[0m\u001b[0;34m.\u001b[0m\u001b[0margsort\u001b[0m\u001b[0;34m(\u001b[0m\u001b[0;34m)\u001b[0m\u001b[0;34m\u001b[0m\u001b[0;34m\u001b[0m\u001b[0m\n\u001b[0m\u001b[1;32m     12\u001b[0m   \u001b[0mclassCount\u001b[0m \u001b[0;34m=\u001b[0m \u001b[0;34m{\u001b[0m\u001b[0;34m}\u001b[0m\u001b[0;34m\u001b[0m\u001b[0;34m\u001b[0m\u001b[0m\n\u001b[1;32m     13\u001b[0m \u001b[0;34m\u001b[0m\u001b[0m\n",
            "\u001b[0;31mKeyboardInterrupt\u001b[0m: "
          ]
        }
      ]
    }
  ]
}
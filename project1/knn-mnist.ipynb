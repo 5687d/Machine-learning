{
  "nbformat": 4,
  "nbformat_minor": 0,
  "metadata": {
    "colab": {
      "name": "Untitled0.ipynb",
      "provenance": [],
      "collapsed_sections": [],
      "authorship_tag": "ABX9TyNy/1Q1W77h+E6ToLEFnITG",
      "include_colab_link": true
    },
    "kernelspec": {
      "name": "python3",
      "display_name": "Python 3"
    },
    "accelerator": "GPU"
  },
  "cells": [
    {
      "cell_type": "markdown",
      "metadata": {
        "id": "view-in-github",
        "colab_type": "text"
      },
      "source": [
        "<a href=\"https://colab.research.google.com/github/5687d/Machine-learning/blob/main/project1/knn-mnist.ipynb\" target=\"_parent\"><img src=\"https://colab.research.google.com/assets/colab-badge.svg\" alt=\"Open In Colab\"/></a>"
      ]
    },
    {
      "cell_type": "code",
      "metadata": {
        "id": "Cjej4dlH6-2w",
        "outputId": "ee897059-dd6f-4cfd-cc1c-5be8bf139f85",
        "colab": {
          "base_uri": "https://localhost:8080/",
          "height": 34
        }
      },
      "source": [
        "from google.colab import drive\n",
        "drive.mount('/content/drive/')"
      ],
      "execution_count": 6,
      "outputs": [
        {
          "output_type": "stream",
          "text": [
            "Mounted at /content/drive/\n"
          ],
          "name": "stdout"
        }
      ]
    },
    {
      "cell_type": "code",
      "metadata": {
        "id": "dkeJp9oj54m6",
        "outputId": "b1b5c6d0-ad7c-42b1-9814-d38ae3d720ef",
        "colab": {
          "base_uri": "https://localhost:8080/",
          "height": 68
        }
      },
      "source": [
        "\n",
        "# -*- coding: utf-8 -*-\n",
        "\n",
        "\"\"\"\n",
        "\n",
        "@author: yh960\n",
        "reference: https://www.programmersought.com/article/12664496909/\n",
        "           https://www.kaggle.com/shrutimechlearn/step-by-step-diabetes-classification-knn-detailed\n",
        "           https://www.w3xue.com/exp/article/20201/73169.html \n",
        "\"\"\"\n",
        "import numpy\n",
        "import csv\n",
        "import time\n",
        "import torch\n",
        "\n",
        "device = torch.device(\"cuda:0\")\n",
        "\n",
        "# load the train data\n",
        "def loadTrainData():\n",
        "     l=[]\n",
        "     with open('/content/drive/My Drive/lab/train.csv') as file:\n",
        "          lines = csv.reader(file)\n",
        "          for line in lines:\n",
        "              l.append(line)\n",
        "          l.remove(l[0])\n",
        "          l=array(l)\n",
        "          print(l.shape)\n",
        "          data, label = l[:,1:], l[:,0]\n",
        "          label = label[:,newaxis]\n",
        "          data = toInt(data)\n",
        "          label = toInt(label)\n",
        "          return data, label\n",
        "\n",
        "# integer\n",
        "def toInt(array):\n",
        "    tensor = torch.from_numpy(array.astype(numpy.int_)).to(device)\n",
        "    print('toInt: size = ' + str(tensor.size()))\n",
        "    return tensor\n",
        "  \n",
        "# Normalization\n",
        "#def normalizing(array):\n",
        "#    m,n = shape(array)\n",
        "#    for i in range(m):\n",
        "#        for j in range(n):\n",
        "#            if array[i,j] != 0:\n",
        "#                array[i,j]=1\n",
        "#    return array\n",
        "  \n",
        "# load the test data\n",
        "def loadTestData():\n",
        "      l=[]         \n",
        "\n",
        "      with open('/content/drive/My Drive/lab/test.csv') as file:\n",
        "          lines = csv.reader(file)\n",
        "          for line in lines:\n",
        "              l.append(line)\n",
        "          l.remove(l[0])\n",
        "          l=array(l)\n",
        "          testdata=toInt(l)\n",
        "          return testdata\n",
        "  \n",
        "# save the result\n",
        "def saveResult(result):\n",
        "      with open('/content/drive/My Drive/lab/knn.csv', 'w', newline='') as myFile:\n",
        "          myWriter = csv.writer(myFile)\n",
        "          myWriter.writerow(['ImageId','Label'])\n",
        "          for i, label in enumerate(result):\n",
        "              tmp = [i+1, int(label)]\n",
        "              myWriter.writerow(tmp)\n",
        "\n"
      ],
      "execution_count": 127,
      "outputs": [
        {
          "output_type": "stream",
          "text": [
            "(42000, 785)\n",
            "toInt: size = torch.Size([42000, 784])\n",
            "toInt: size = torch.Size([42000, 1])\n"
          ],
          "name": "stdout"
        }
      ]
    },
    {
      "cell_type": "code",
      "metadata": {
        "id": "QSspkmA6Gc6R",
        "outputId": "3e0a8851-76a5-42d8-b1fb-7a4a0923ac58",
        "colab": {
          "base_uri": "https://localhost:8080/",
          "height": 68
        }
      },
      "source": [
        "trainData,trainLabel=loadTrainData()\n",
        "testData =loadTestData()\n"
      ],
      "execution_count": 76,
      "outputs": [
        {
          "output_type": "stream",
          "text": [
            "toInt: size = torch.Size([42000, 784])\n",
            "toInt: size = torch.Size([42000, 1])\n",
            "toInt: size = torch.Size([28000, 784])\n"
          ],
          "name": "stdout"
        }
      ]
    },
    {
      "cell_type": "code",
      "metadata": {
        "id": "FIutJvw9Gwpb",
        "outputId": "4424945d-b458-4705-9661-df805ac4b475",
        "colab": {
          "base_uri": "https://localhost:8080/",
          "height": 255
        }
      },
      "source": [
        "  \n",
        "# kNN classifier\n",
        "def classify(inX, dataSet, labels, k):\n",
        "    dataSetSize = dataSet.shape[0]\n",
        "    diffMat = inX.repeat(dataSetSize,1)-dataSet\n",
        "\n",
        "    # calculate the L2 distance\n",
        "    spDiffMat = torch.square(diffMat)\n",
        "    spDistances = torch.sum(spDiffMat,dim=1) \n",
        "    distances = spDistances ** 0.5\n",
        "    sortedDistIndicies = distances.argsort()\n",
        "    classCount = {}\n",
        "\n",
        "    for i in range(k):\n",
        "        voteIlabel = labels[sortedDistIndicies[i],0]\n",
        "        classCount[voteIlabel] = classCount.get(voteIlabel,0) + 1\n",
        "    sortedClassCount = sorted(classCount.items(), key=lambda item:item[1], reverse=True)\n",
        "    return sortedClassCount[0][0]\n",
        "  \n",
        "# main\n",
        "start = time.time()\n",
        "\n",
        "errorCount=0\n",
        "resultList=[]\n",
        "splitTrainDataSize = 33600\n",
        "splitTestDataSize = 8400\n",
        "k=1\n",
        "\n",
        "splitTrainData = torch.split(trainData, [splitTrainDataSize, splitTestDataSize])\n",
        "splitTrainLabel = torch.split(trainLabel, [splitTrainDataSize, splitTestDataSize])\n",
        "for i in range(splitTestDataSize):\n",
        "    classifierResult = classify(splitTrainData[1][i], splitTrainData[0], splitTrainLabel[0], k)\n",
        "    #resultList.append(classifierResult)\n",
        "    if i % 1000 == 0:\n",
        "        print(time.time()-start)\n",
        "    #print(\"the classifier for %d came back with: %d, the actual answer is %d\" % (i, classifierResult, splitTrainLabel[1][27]))\n",
        "    if (classifierResult != splitTrainLabel[1][i]): \n",
        "        errorCount += 1\n",
        "\n",
        "\n",
        "\n",
        "end = time.time()\n",
        "print (end - start)\n",
        "print(\"\\nthe total number of errors is: %d\" % errorCount)\n",
        "print(\"\\nthe total error rate is: %f\" % (errorCount/float(splitTestDataSize)))\n"
      ],
      "execution_count": 133,
      "outputs": [
        {
          "output_type": "stream",
          "text": [
            "0.008462667465209961\n",
            "7.584174394607544\n",
            "15.141709566116333\n",
            "22.700247764587402\n",
            "30.277064561843872\n",
            "37.84251928329468\n",
            "45.39778780937195\n",
            "52.95931601524353\n",
            "60.52288484573364\n",
            "63.54207134246826\n",
            "\n",
            "the total number of errors is: 274\n",
            "\n",
            "the total error rate is: 0.032619\n"
          ],
          "name": "stdout"
        }
      ]
    },
    {
      "cell_type": "code",
      "metadata": {
        "id": "soakTuDWwXQV",
        "outputId": "fdffcc65-3e88-4235-cbd0-16d1e897893e",
        "colab": {
          "base_uri": "https://localhost:8080/",
          "height": 510
        }
      },
      "source": [
        "start = time.time()\n",
        "testDataSize = testData.shape\n",
        "print(testDataSize)\n",
        "for i in range(testDataSize[0]):\n",
        "    classifierResult = classify(testData[i], splitTrainData[0], splitTrainLabel[0], k)\n",
        "    resultList.append(classifierResult)\n",
        "    if i % 1000 == 0:\n",
        "        print(time.time()-start)\n",
        "    #print(\"the classifier for %d came back with: %d, the actual answer is %d\" % (i, classifierResult, splitTrainLabel[1][i]))\n",
        "    #if (classifierResult != splitTrainLabel[1][i]): \n",
        "        #errorCount += 1\n",
        "\n",
        "\n",
        "saveResult(resultList)"
      ],
      "execution_count": 134,
      "outputs": [
        {
          "output_type": "stream",
          "text": [
            "torch.Size([28000, 784])\n",
            "0.008121967315673828\n",
            "7.533229827880859\n",
            "15.053433895111084\n",
            "22.574098587036133\n",
            "30.095207929611206\n",
            "37.610623598098755\n",
            "45.12804341316223\n",
            "52.64662790298462\n",
            "60.16444683074951\n",
            "67.68178081512451\n",
            "75.19727993011475\n",
            "82.70944619178772\n",
            "90.22563576698303\n",
            "97.74164915084839\n",
            "105.25846242904663\n",
            "112.77802753448486\n",
            "120.29771590232849\n",
            "127.8216860294342\n",
            "135.34389543533325\n",
            "142.86970019340515\n",
            "150.39158749580383\n",
            "157.90765953063965\n",
            "165.42207956314087\n",
            "172.94549202919006\n",
            "180.4655933380127\n",
            "187.98699378967285\n",
            "195.50607705116272\n",
            "203.02162098884583\n"
          ],
          "name": "stdout"
        }
      ]
    }
  ]
}